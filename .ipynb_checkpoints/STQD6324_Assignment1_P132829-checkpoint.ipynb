{
 "cells": [
  {
   "cell_type": "markdown",
   "metadata": {},
   "source": [
    "# STQD6324 Data Management #\n",
    "# P132829 #\n",
    "# Assignment 1 #"
   ]
  },
  {
   "cell_type": "markdown",
   "metadata": {
    "executionInfo": {
     "elapsed": 889,
     "status": "ok",
     "timestamp": 1711787426624,
     "user": {
      "displayName": "KAMARUL ARIFIN BIN MUSA",
      "userId": "12952871865673367141"
     },
     "user_tz": -480
    },
    "id": "xG-pc4QueZqU"
   },
   "source": [
    "## 1. Propose ##\n",
    "\n",
    "### Establishing a Data Management Plan at proposal stage in the Data and Research Life Cycle facilitates a structured work with data and saves time later on. ###\n",
    "\n",
    "### Unicorn startups benchmark for Malaysia ###\n",
    "\n",
    "For this assignment, I would like to select a topic on startup in Malaysia as I am currently working in Ministry of Science, Technology and Innovation (MOSTI) that has a clear vision and strategic approach to foster the growth of unicorn startups in Malaysia. My topic would be focusing on the unicorn startup from other countries as to become a certain benchmarks for Malaysia.\n",
    "\n",
    "According to Vision: Top 20 Global Startup Ecosystem by 2030, MOSTI aims to position Malaysia among the top 20 global startup ecosystems by the year 2030. This ambitious vision involves creating an environment conducive to innovation, entrepreneurship and sustainable growth. The key outcomes for this is the goal to create 5,000 companies including five (5) unicorn startups by 205 and a unicorn companies that are privately held startups valued at over US$1 billion.\n",
    "\n",
    "MOSTI's commmitment to nurturing a robust startup ecosystem ensures a bright future for Malaysians, regardless of economic status. By attracting investors, fostering innovation and supporting startups, Malaysia aims to shine as a global hib for entrepreneural success.\n",
    "\n"
   ]
  },
  {
   "cell_type": "markdown",
   "metadata": {
    "id": "aAfmTv1oeyTh"
   },
   "source": [
    "## 2. Collect ##\n",
    "\n",
    "### Data Entry ###\n",
    "### Spreadsheet Structure ###\n",
    "### File Naming ###\n",
    "### File Versioning ###\n",
    "\n",
    "\"Unicorn\" is a term used in the venture capital industry to describe a privately held startup company with a value of over $1 billion. The term was first popularized by venture capital Aileen Lee, founder of Cowboy Ventures, a seed-stage venture capital fund based in Palo Alto, California.\n",
    "\n",
    "The data used for this topic is from kaggle https://www.kaggle.com/datasets/niekvanderzwaag/unicorn-startups-cleaned/data. This dataset tells about a data on unicorn startups around the world. The file name is **Unicorn_Clean_V1.0.csv** which are saved in the local folder and also in GitHub repository."
   ]
  },
  {
   "cell_type": "markdown",
   "metadata": {},
   "source": [
    "## 3. Assure ##\n",
    "\n",
    "### Quality control and assurance ###\n",
    "### Basic quality control ###\n",
    "### Outliers ###\n",
    "\n"
   ]
  },
  {
   "cell_type": "code",
   "execution_count": 1,
   "metadata": {},
   "outputs": [],
   "source": [
    "import pandas as pd\n",
    "import seaborn as sns\n",
    "import matplotlib.pyplot as plt"
   ]
  },
  {
   "cell_type": "code",
   "execution_count": 5,
   "metadata": {},
   "outputs": [
    {
     "data": {
      "text/html": [
       "<div>\n",
       "<style scoped>\n",
       "    .dataframe tbody tr th:only-of-type {\n",
       "        vertical-align: middle;\n",
       "    }\n",
       "\n",
       "    .dataframe tbody tr th {\n",
       "        vertical-align: top;\n",
       "    }\n",
       "\n",
       "    .dataframe thead th {\n",
       "        text-align: right;\n",
       "    }\n",
       "</style>\n",
       "<table border=\"1\" class=\"dataframe\">\n",
       "  <thead>\n",
       "    <tr style=\"text-align: right;\">\n",
       "      <th></th>\n",
       "      <th>Company</th>\n",
       "      <th>Valuation ($B)</th>\n",
       "      <th>Date Joined</th>\n",
       "      <th>Country</th>\n",
       "      <th>City</th>\n",
       "      <th>Industry</th>\n",
       "      <th>Investor 1</th>\n",
       "      <th>Investor 2</th>\n",
       "      <th>Investor 3</th>\n",
       "      <th>Investor 4</th>\n",
       "    </tr>\n",
       "  </thead>\n",
       "  <tbody>\n",
       "    <tr>\n",
       "      <th>0</th>\n",
       "      <td>Bytedance</td>\n",
       "      <td>140.0</td>\n",
       "      <td>2017-04-07</td>\n",
       "      <td>China</td>\n",
       "      <td>Beijing</td>\n",
       "      <td>Artificial intelligence</td>\n",
       "      <td>Sequoia Capital China</td>\n",
       "      <td>SIG Asia Investments</td>\n",
       "      <td>Sina Weibo</td>\n",
       "      <td>Softbank Group</td>\n",
       "    </tr>\n",
       "    <tr>\n",
       "      <th>1</th>\n",
       "      <td>SpaceX</td>\n",
       "      <td>100.3</td>\n",
       "      <td>2012-12-01</td>\n",
       "      <td>United States</td>\n",
       "      <td>Hawthorne</td>\n",
       "      <td>Other</td>\n",
       "      <td>Founders Fund</td>\n",
       "      <td>Draper Fisher Jurvetson</td>\n",
       "      <td>Rothenberg Ventures</td>\n",
       "      <td>NaN</td>\n",
       "    </tr>\n",
       "    <tr>\n",
       "      <th>2</th>\n",
       "      <td>Stripe</td>\n",
       "      <td>95.0</td>\n",
       "      <td>2014-01-23</td>\n",
       "      <td>United States</td>\n",
       "      <td>San Francisco</td>\n",
       "      <td>Fintech</td>\n",
       "      <td>Khosla Ventures</td>\n",
       "      <td>LowercaseCapital</td>\n",
       "      <td>capitalG</td>\n",
       "      <td>NaN</td>\n",
       "    </tr>\n",
       "    <tr>\n",
       "      <th>3</th>\n",
       "      <td>Klarna</td>\n",
       "      <td>45.6</td>\n",
       "      <td>2011-12-12</td>\n",
       "      <td>Sweden</td>\n",
       "      <td>Stockholm</td>\n",
       "      <td>Fintech</td>\n",
       "      <td>Institutional Venture Partners</td>\n",
       "      <td>Sequoia Capital</td>\n",
       "      <td>General Atlantic</td>\n",
       "      <td>NaN</td>\n",
       "    </tr>\n",
       "    <tr>\n",
       "      <th>4</th>\n",
       "      <td>Canva</td>\n",
       "      <td>40.0</td>\n",
       "      <td>2018-01-08</td>\n",
       "      <td>Australia</td>\n",
       "      <td>Surry Hills</td>\n",
       "      <td>Internet software &amp; services</td>\n",
       "      <td>Sequoia Capital China</td>\n",
       "      <td>Blackbird Ventures</td>\n",
       "      <td>Matrix Partners</td>\n",
       "      <td>NaN</td>\n",
       "    </tr>\n",
       "  </tbody>\n",
       "</table>\n",
       "</div>"
      ],
      "text/plain": [
       "     Company  Valuation ($B) Date Joined        Country           City  \\\n",
       "0  Bytedance           140.0  2017-04-07          China        Beijing   \n",
       "1     SpaceX           100.3  2012-12-01  United States      Hawthorne   \n",
       "2     Stripe            95.0  2014-01-23  United States  San Francisco   \n",
       "3     Klarna            45.6  2011-12-12         Sweden      Stockholm   \n",
       "4      Canva            40.0  2018-01-08      Australia    Surry Hills   \n",
       "\n",
       "                       Industry                      Investor 1  \\\n",
       "0       Artificial intelligence           Sequoia Capital China   \n",
       "1                         Other                   Founders Fund   \n",
       "2                       Fintech                 Khosla Ventures   \n",
       "3                       Fintech  Institutional Venture Partners   \n",
       "4  Internet software & services           Sequoia Capital China   \n",
       "\n",
       "                Investor 2           Investor 3      Investor 4  \n",
       "0     SIG Asia Investments           Sina Weibo  Softbank Group  \n",
       "1  Draper Fisher Jurvetson  Rothenberg Ventures             NaN  \n",
       "2         LowercaseCapital             capitalG             NaN  \n",
       "3          Sequoia Capital     General Atlantic             NaN  \n",
       "4       Blackbird Ventures      Matrix Partners             NaN  "
      ]
     },
     "execution_count": 5,
     "metadata": {},
     "output_type": "execute_result"
    }
   ],
   "source": [
    "df = pd.read_csv('C:/Users/kamar/OneDrive/Documents/GitHub/STQD6324_Data_Management_P132829/Assignment_1/Unicorn_Clean_V1.0.csv')\n",
    "df = df.drop('Unnamed: 0', axis = 1)\n",
    "df.head()"
   ]
  },
  {
   "cell_type": "code",
   "execution_count": 6,
   "metadata": {},
   "outputs": [
    {
     "name": "stdout",
     "output_type": "stream",
     "text": [
      "<class 'pandas.core.frame.DataFrame'>\n",
      "RangeIndex: 936 entries, 0 to 935\n",
      "Data columns (total 10 columns):\n",
      " #   Column          Non-Null Count  Dtype  \n",
      "---  ------          --------------  -----  \n",
      " 0   Company         936 non-null    object \n",
      " 1   Valuation ($B)  936 non-null    float64\n",
      " 2   Date Joined     936 non-null    object \n",
      " 3   Country         936 non-null    object \n",
      " 4   City            936 non-null    object \n",
      " 5   Industry        936 non-null    object \n",
      " 6   Investor 1      936 non-null    object \n",
      " 7   Investor 2      890 non-null    object \n",
      " 8   Investor 3      806 non-null    object \n",
      " 9   Investor 4      7 non-null      object \n",
      "dtypes: float64(1), object(9)\n",
      "memory usage: 73.3+ KB\n"
     ]
    }
   ],
   "source": [
    "df.info()"
   ]
  },
  {
   "cell_type": "code",
   "execution_count": 7,
   "metadata": {},
   "outputs": [
    {
     "data": {
      "text/plain": [
       "Company           False\n",
       "Valuation ($B)    False\n",
       "Date Joined       False\n",
       "Country           False\n",
       "City              False\n",
       "Industry          False\n",
       "Investor 1        False\n",
       "Investor 2         True\n",
       "Investor 3         True\n",
       "Investor 4         True\n",
       "dtype: bool"
      ]
     },
     "execution_count": 7,
     "metadata": {},
     "output_type": "execute_result"
    }
   ],
   "source": [
    "df.isna().any()"
   ]
  },
  {
   "cell_type": "code",
   "execution_count": 17,
   "metadata": {},
   "outputs": [],
   "source": [
    "top10 = df.head(10).copy()"
   ]
  },
  {
   "cell_type": "code",
   "execution_count": 18,
   "metadata": {},
   "outputs": [
    {
     "data": {
      "text/plain": [
       "<Axes: xlabel='Industry', ylabel='Valuation ($B)'>"
      ]
     },
     "execution_count": 18,
     "metadata": {},
     "output_type": "execute_result"
    },
    {
     "data": {
      "image/png": "[encoded data removed]",
      "text/plain": [
       "<Figure size 2000x1000 with 1 Axes>"
      ]
     },
     "metadata": {},
     "output_type": "display_data"
    }
   ],
   "source": [
    "plt.figure(figsize = (20, 10))\n",
    "top10.loc[10, 'Valuation'] = 140\n",
    "sns.boxplot(data = top10, x = 'Industry', y = 'Valuation ($B)', orient = 'v')"
   ]
  },
  {
   "cell_type": "markdown",
   "metadata": {},
   "source": [
    "There is no outliers for this dataset."
   ]
  },
  {
   "cell_type": "markdown",
   "metadata": {},
   "source": [
    "## 4. Describe ##\n",
    "\n",
    "### Metadata ###\n",
    "### Describe digital object ###"
   ]
  },
  {
   "cell_type": "markdown",
   "metadata": {},
   "source": [
    "## 5. Submit ##\n",
    "\n",
    "### File format ###"
   ]
  },
  {
   "cell_type": "markdown",
   "metadata": {},
   "source": [
    "## 6. Preserve ##\n",
    "\n",
    "### Backup ###\n",
    "### Migration ###\n",
    "### Refreshment and Emulation ###"
   ]
  },
  {
   "cell_type": "markdown",
   "metadata": {},
   "source": [
    "## 7. Discover ##\n",
    "\n",
    "### Search and find data collected by other researchers ###"
   ]
  },
  {
   "cell_type": "markdown",
   "metadata": {},
   "source": [
    "## 8. Integrate ##\n",
    "\n",
    "### Merging of multiple datasets ###"
   ]
  },
  {
   "cell_type": "markdown",
   "metadata": {},
   "source": [
    "## 9. Analyse ##\n",
    "\n",
    "### Statistics and Visualization ##\n",
    "### Documentation ###\n",
    "### Flowchart ###"
   ]
  },
  {
   "cell_type": "markdown",
   "metadata": {},
   "source": [
    "## 10. Publish ##\n",
    "\n",
    "### Dataset linked with the publication of related academic papers ###"
   ]
  },
  {
   "cell_type": "code",
   "execution_count": null,
   "metadata": {},
   "outputs": [],
   "source": []
  }
 ],
 "metadata": {
  "colab": {
   "authorship_tag": "ABX9TyNyscT9L3ooW7y1TR/Njxjv",
   "provenance": [
    {
     "file_id": "1rY4F8VlsyvoQykfwho2hVBhgycS5hV66",
     "timestamp": 1711787327377
    }
   ]
  },
  "kernelspec": {
   "display_name": "Python 3 (ipykernel)",
   "language": "python",
   "name": "python3"
  },
  "language_info": {
   "codemirror_mode": {
    "name": "ipython",
    "version": 3
   },
   "file_extension": ".py",
   "mimetype": "text/x-python",
   "name": "python",
   "nbconvert_exporter": "python",
   "pygments_lexer": "ipython3",
   "version": "3.11.5"
  }
 },
 "nbformat": 4,
 "nbformat_minor": 1
}
